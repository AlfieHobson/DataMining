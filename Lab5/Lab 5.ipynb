{
 "cells": [
  {
   "cell_type": "code",
   "execution_count": 10,
   "metadata": {},
   "outputs": [],
   "source": [
    "import pandas as pd\n",
    "import seaborn as sb\n",
    "import numpy as np\n",
    "import matplotlib.pyplot as plt\n",
    "import scikitplot as skplt\n",
    "import sklearn"
   ]
  },
  {
   "cell_type": "markdown",
   "metadata": {},
   "source": [
    "TP = True Positive   Claimed - Claimed\n",
    "TN = True Negative   Not Claimed - Not Claimed\n",
    "\n",
    "FP = False Positive  Claimed - Not Claimed\n",
    "FN = False Negative  Not Claimed - Claimed\n",
    "\n",
    "gt:\n",
    "[ \"C\" , \"NC\" , \"C\" , \"C\" , \"C\" , \"NC\" , \"NC\" , \"NC\" , \"NC\" , \"C\" , \"NC\" ,\"NC\" , \"C\" , \"C\" , \"NC\" , \"NC\" , \"NC\" ]\n",
    "\n",
    "Pred:\n",
    "[ \"NC\" , \"NC\" , \"NC\" , \"NC\" , \"C\" , \"NC\" , \"NC\" , \"C\" , \"NC\" , \"NC\" , \"C\" , \"C\" , \"NC\" , \"NC\" , \"NC\" , \"C\" , \"NC\" ]\n",
    "\n",
    "TN, FP, TN, TN, TP, FP, FP, FN, FP, TN, FN, FN, TN, TN, FP, FN, FP\n",
    "TP: 1\n",
    "TN: 6\n",
    "FP: 6\n",
    "FN: 4\n",
    "\n",
    "Accuracy is number of correctly classified items\n",
    "TP + TN = 1 + 6 = 7\n",
    "Accuracy = TP + TN / (TP+TN+FP+FN)      7 / 17 = 0.4117\n",
    "\n",
    "Sensitivity (True Positve Rate)\n",
    "Sens = TP/(TP + FN)    = 1/5  = 0.2\n",
    "\n",
    "Specificity (True Negative Rate)\n",
    "Spec = TN/(TN + FP)    = 6/12 = 0.5\n",
    "\n",
    "Precision (Out of all Positive predictions, how many positive)\n",
    "Prec = TP/(TP + FP)    = 1/7  = 0.14\n"
   ]
  },
  {
   "cell_type": "code",
   "execution_count": 8,
   "metadata": {},
   "outputs": [
    {
     "data": {
      "text/plain": [
       "<matplotlib.axes._subplots.AxesSubplot at 0x61f49b0>"
      ]
     },
     "execution_count": 8,
     "metadata": {},
     "output_type": "execute_result"
    },
    {
     "data": {
      "image/png": "[encoded data removed]",
      "text/plain": [
       "<Figure size 432x288 with 2 Axes>"
      ]
     },
     "metadata": {
      "needs_background": "light"
     },
     "output_type": "display_data"
    },
    {
     "data": {
      "image/png": "[encoded data removed]",
      "text/plain": [
       "<Figure size 432x288 with 2 Axes>"
      ]
     },
     "metadata": {
      "needs_background": "light"
     },
     "output_type": "display_data"
    }
   ],
   "source": [
    "gt = [ \"C\" , \"NC\" , \"C\" , \"C\" , \"C\" , \"NC\" , \"NC\" , \"NC\" , \"NC\" , \"C\" , \"NC\" ,\n",
    "\"NC\" , \"C\" , \"C\" , \"NC\" , \"NC\" , \"NC\" ]\n",
    "\n",
    "pred = [ \"NC\" , \"NC\" , \"NC\" , \"NC\" , \"C\" , \"NC\" , \"NC\" , \"C\" , \"NC\" , \"NC\" , \"C\" ,\n",
    "\"C\" , \"NC\" , \"NC\" , \"NC\" , \"C\" , \"NC\" ]\n",
    "\n",
    "skplt.metrics.plot_confusion_matrix(\n",
    "    gt,\n",
    "    pred,\n",
    "    normalize=True,\n",
    ")\n",
    "skplt.metrics.plot_confusion_matrix(\n",
    "    gt,\n",
    "    pred,\n",
    "    normalize=False,\n",
    ")"
   ]
  },
  {
   "cell_type": "code",
   "execution_count": 11,
   "metadata": {},
   "outputs": [
    {
     "data": {
      "text/plain": [
       "array([[1, 6],\n",
       "       [4, 6]], dtype=int64)"
      ]
     },
     "execution_count": 11,
     "metadata": {},
     "output_type": "execute_result"
    }
   ],
   "source": [
    "#Raw Data\n",
    "sklearn.metrics.confusion_matrix(gt,pred)"
   ]
  },
  {
   "cell_type": "code",
   "execution_count": 14,
   "metadata": {},
   "outputs": [
    {
     "name": "stdout",
     "output_type": "stream",
     "text": [
      "[[1 6]\n",
      " [4 6]]\n",
      "1 6 4 6\n"
     ]
    }
   ],
   "source": [
    "#Raw Data\n",
    "cm = sklearn.metrics.confusion_matrix(gt, pred)\n",
    "tn, fp, fn, tp = sklearn.metrics.confusion_matrix(gt,pred).ravel()\n",
    "print(cm)\n",
    "print(tn, fp,fn,tp)"
   ]
  },
  {
   "cell_type": "code",
   "execution_count": null,
   "metadata": {},
   "outputs": [],
   "source": []
  }
 ],
 "metadata": {
  "kernelspec": {
   "display_name": "Python 3",
   "language": "python",
   "name": "python3"
  },
  "language_info": {
   "codemirror_mode": {
    "name": "ipython",
    "version": 3
   },
   "file_extension": ".py",
   "mimetype": "text/x-python",
   "name": "python",
   "nbconvert_exporter": "python",
   "pygments_lexer": "ipython3",
   "version": "3.7.3"
  }
 },
 "nbformat": 4,
 "nbformat_minor": 2
}
