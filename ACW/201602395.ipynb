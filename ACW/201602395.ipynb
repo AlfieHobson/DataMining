{
 "cells": [
  {
   "cell_type": "code",
   "execution_count": 44,
   "metadata": {},
   "outputs": [],
   "source": [
    "import time\n",
    "import math\n",
    "import pandas as pd\n",
    "import seaborn as sb\n",
    "import numpy as np\n",
    "import matplotlib.pyplot as plt\n",
    "import scikitplot as skplt\n",
    "import sklearn \n",
    "\n",
    "from sklearn import tree\n",
    "from sklearn import metrics\n",
    "from sklearn.metrics import mean_absolute_error\n",
    "from sklearn.metrics import mean_squared_error\n",
    "from sklearn.model_selection import train_test_split\n",
    "\n",
    "from sklearn.neighbors import KNeighborsClassifier\n",
    "from sklearn.model_selection import cross_val_score\n",
    "\n",
    "from pylab import rcParams\n",
    "\n",
    "from sklearn.neural_network import MLPClassifier\n",
    "\n",
    "%matplotlib inline\n",
    "\n",
    "#pip install matplotlib==3.1.0 --upgrade --force to fix confusion matrix issue\n",
    "\n",
    "#https://towardsdatascience.com/knn-using-scikit-learn-c6bed765be75\n",
    "#https://towardsdatascience.com/building-a-k-nearest-neighbors-k-nn-model-with-scikit-learn-51209555453a\n",
    "\n",
    "#clf = tree.DecisionTreeClassifier()\n",
    "#clf = clf.fit(data_copy, data_copy.target)\n",
    "#tree.plot_tree(clf) "
   ]
  },
  {
   "cell_type": "code",
   "execution_count": 45,
   "metadata": {},
   "outputs": [],
   "source": [
    "data = pd.read_csv('600092_data.csv') \n"
   ]
  },
  {
   "cell_type": "markdown",
   "metadata": {},
   "source": [
    "# 1. Understanding the Data"
   ]
  },
  {
   "cell_type": "code",
   "execution_count": 46,
   "metadata": {},
   "outputs": [
    {
     "name": "stdout",
     "output_type": "stream",
     "text": [
      "<class 'pandas.core.frame.DataFrame'>\n",
      "RangeIndex: 1520 entries, 0 to 1519\n",
      "Data columns (total 11 columns):\n",
      "Random          1520 non-null float64\n",
      "Id              1520 non-null int64\n",
      "Indication      1517 non-null object\n",
      "Diabetes        1518 non-null object\n",
      "IHD             1520 non-null object\n",
      "Hypertension    1517 non-null object\n",
      "Arrhythmia      1520 non-null object\n",
      "History         1518 non-null object\n",
      "IPSI            1516 non-null float64\n",
      "Contra          1520 non-null object\n",
      "label           1517 non-null object\n",
      "dtypes: float64(2), int64(1), object(8)\n",
      "memory usage: 130.8+ KB\n"
     ]
    }
   ],
   "source": [
    "data_copy = data\n",
    "data_copy.info()"
   ]
  },
  {
   "cell_type": "code",
   "execution_count": 47,
   "metadata": {},
   "outputs": [
    {
     "data": {
      "text/html": [
       "<div>\n",
       "<style scoped>\n",
       "    .dataframe tbody tr th:only-of-type {\n",
       "        vertical-align: middle;\n",
       "    }\n",
       "\n",
       "    .dataframe tbody tr th {\n",
       "        vertical-align: top;\n",
       "    }\n",
       "\n",
       "    .dataframe thead th {\n",
       "        text-align: right;\n",
       "    }\n",
       "</style>\n",
       "<table border=\"1\" class=\"dataframe\">\n",
       "  <thead>\n",
       "    <tr style=\"text-align: right;\">\n",
       "      <th></th>\n",
       "      <th>Random</th>\n",
       "      <th>Id</th>\n",
       "      <th>Indication</th>\n",
       "      <th>Diabetes</th>\n",
       "      <th>IHD</th>\n",
       "      <th>Hypertension</th>\n",
       "      <th>Arrhythmia</th>\n",
       "      <th>History</th>\n",
       "      <th>IPSI</th>\n",
       "      <th>Contra</th>\n",
       "      <th>label</th>\n",
       "    </tr>\n",
       "  </thead>\n",
       "  <tbody>\n",
       "    <tr>\n",
       "      <th>0</th>\n",
       "      <td>0.602437</td>\n",
       "      <td>218242</td>\n",
       "      <td>A-F</td>\n",
       "      <td>no</td>\n",
       "      <td>no</td>\n",
       "      <td>yes</td>\n",
       "      <td>no</td>\n",
       "      <td>no</td>\n",
       "      <td>78.0</td>\n",
       "      <td>20</td>\n",
       "      <td>NoRisk</td>\n",
       "    </tr>\n",
       "    <tr>\n",
       "      <th>1</th>\n",
       "      <td>0.602437</td>\n",
       "      <td>159284</td>\n",
       "      <td>TIA</td>\n",
       "      <td>no</td>\n",
       "      <td>no</td>\n",
       "      <td>no</td>\n",
       "      <td>no</td>\n",
       "      <td>no</td>\n",
       "      <td>70.0</td>\n",
       "      <td>60</td>\n",
       "      <td>NoRisk</td>\n",
       "    </tr>\n",
       "    <tr>\n",
       "      <th>2</th>\n",
       "      <td>0.602437</td>\n",
       "      <td>106066</td>\n",
       "      <td>A-F</td>\n",
       "      <td>no</td>\n",
       "      <td>yes</td>\n",
       "      <td>yes</td>\n",
       "      <td>no</td>\n",
       "      <td>no</td>\n",
       "      <td>95.0</td>\n",
       "      <td>40</td>\n",
       "      <td>Risk</td>\n",
       "    </tr>\n",
       "    <tr>\n",
       "      <th>3</th>\n",
       "      <td>0.128157</td>\n",
       "      <td>229592</td>\n",
       "      <td>TIA</td>\n",
       "      <td>no</td>\n",
       "      <td>no</td>\n",
       "      <td>yes</td>\n",
       "      <td>no</td>\n",
       "      <td>no</td>\n",
       "      <td>90.0</td>\n",
       "      <td>85</td>\n",
       "      <td>Risk</td>\n",
       "    </tr>\n",
       "    <tr>\n",
       "      <th>4</th>\n",
       "      <td>0.676862</td>\n",
       "      <td>245829</td>\n",
       "      <td>CVA</td>\n",
       "      <td>no</td>\n",
       "      <td>no</td>\n",
       "      <td>no</td>\n",
       "      <td>no</td>\n",
       "      <td>no</td>\n",
       "      <td>70.0</td>\n",
       "      <td>20</td>\n",
       "      <td>NoRisk</td>\n",
       "    </tr>\n",
       "  </tbody>\n",
       "</table>\n",
       "</div>"
      ],
      "text/plain": [
       "     Random      Id Indication Diabetes  IHD Hypertension Arrhythmia History  \\\n",
       "0  0.602437  218242        A-F       no   no          yes         no      no   \n",
       "1  0.602437  159284        TIA       no   no           no         no      no   \n",
       "2  0.602437  106066        A-F       no  yes          yes         no      no   \n",
       "3  0.128157  229592        TIA       no   no          yes         no      no   \n",
       "4  0.676862  245829        CVA       no   no           no         no      no   \n",
       "\n",
       "   IPSI Contra   label  \n",
       "0  78.0    20   NoRisk  \n",
       "1  70.0    60   NoRisk  \n",
       "2  95.0     40    Risk  \n",
       "3  90.0     85    Risk  \n",
       "4  70.0    20   NoRisk  "
      ]
     },
     "execution_count": 47,
     "metadata": {},
     "output_type": "execute_result"
    }
   ],
   "source": [
    "data_copy.head()"
   ]
  },
  {
   "cell_type": "markdown",
   "metadata": {},
   "source": [
    "# 2. Cleaning the Data\n",
    "### Checking how many null values, and removing them"
   ]
  },
  {
   "cell_type": "code",
   "execution_count": 48,
   "metadata": {},
   "outputs": [
    {
     "data": {
      "text/plain": [
       "Random          0\n",
       "Id              0\n",
       "Indication      3\n",
       "Diabetes        2\n",
       "IHD             0\n",
       "Hypertension    3\n",
       "Arrhythmia      0\n",
       "History         2\n",
       "IPSI            4\n",
       "Contra          0\n",
       "label           3\n",
       "dtype: int64"
      ]
     },
     "execution_count": 48,
     "metadata": {},
     "output_type": "execute_result"
    }
   ],
   "source": [
    "data_copy.isna().sum()"
   ]
  },
  {
   "cell_type": "code",
   "execution_count": 49,
   "metadata": {},
   "outputs": [],
   "source": [
    "data_copy.dropna(inplace=True)"
   ]
  },
  {
   "cell_type": "code",
   "execution_count": 50,
   "metadata": {},
   "outputs": [
    {
     "data": {
      "text/plain": [
       "Random          0\n",
       "Id              0\n",
       "Indication      0\n",
       "Diabetes        0\n",
       "IHD             0\n",
       "Hypertension    0\n",
       "Arrhythmia      0\n",
       "History         0\n",
       "IPSI            0\n",
       "Contra          0\n",
       "label           0\n",
       "dtype: int64"
      ]
     },
     "execution_count": 50,
     "metadata": {},
     "output_type": "execute_result"
    }
   ],
   "source": [
    "data_copy.isna().sum()"
   ]
  },
  {
   "cell_type": "markdown",
   "metadata": {},
   "source": [
    "### Removing column Random"
   ]
  },
  {
   "cell_type": "code",
   "execution_count": 51,
   "metadata": {},
   "outputs": [],
   "source": [
    "data_copy = data_copy.drop(columns=['Random'])"
   ]
  },
  {
   "cell_type": "markdown",
   "metadata": {},
   "source": [
    "### Inspecting column ID\n",
    "#### This column should contain uniques. Checking for duplicates"
   ]
  },
  {
   "cell_type": "code",
   "execution_count": 52,
   "metadata": {},
   "outputs": [
    {
     "name": "stdout",
     "output_type": "stream",
     "text": [
      "No Duplicates\n"
     ]
    }
   ],
   "source": [
    "duplicateRowsDF = data_copy[data_copy.duplicated(['Id'])]\n",
    "duplicateRowsDF\n",
    "\n",
    "if duplicateRowsDF.empty :\n",
    "    print (\"No Duplicates\")\n",
    "else:\n",
    "    duplicateRowsDF\n"
   ]
  },
  {
   "cell_type": "markdown",
   "metadata": {},
   "source": [
    "### Removing column Id\n",
    "No duplicates are present. Therefore it is assumed all data is unique. No further use for ID column and therefore dropping."
   ]
  },
  {
   "cell_type": "code",
   "execution_count": 53,
   "metadata": {},
   "outputs": [],
   "source": [
    "data_copy = data_copy.drop(columns=['Id'])"
   ]
  },
  {
   "cell_type": "markdown",
   "metadata": {},
   "source": [
    "### Inspecting column Indication"
   ]
  },
  {
   "cell_type": "code",
   "execution_count": 54,
   "metadata": {},
   "outputs": [
    {
     "data": {
      "text/plain": [
       "A-F    489\n",
       "CVA    408\n",
       "TIA    388\n",
       "ASx    186\n",
       "Asx     32\n",
       "Name: Indication, dtype: int64"
      ]
     },
     "execution_count": 54,
     "metadata": {},
     "output_type": "execute_result"
    }
   ],
   "source": [
    "data_copy['Indication'].value_counts(dropna=False)"
   ]
  },
  {
   "cell_type": "markdown",
   "metadata": {},
   "source": [
    "### Setting all values to upper case\n",
    "As seen above, we are reading 5 different values for Indication when there should only be 4.  \n",
    "This is due to two values being the same but having different capitialisation.  \n",
    "Setting all values in our data to uppercase to solve this and avoid any further errors."
   ]
  },
  {
   "cell_type": "code",
   "execution_count": 55,
   "metadata": {},
   "outputs": [
    {
     "data": {
      "text/plain": [
       "A-F    489\n",
       "CVA    408\n",
       "TIA    388\n",
       "ASX    218\n",
       "Name: Indication, dtype: int64"
      ]
     },
     "execution_count": 55,
     "metadata": {},
     "output_type": "execute_result"
    }
   ],
   "source": [
    "# Change all my string data to Uppercase to avoid any\n",
    "data_copy['Indication'] = data_copy['Indication'].str.upper()\n",
    "data_copy['Diabetes'] = data_copy['Diabetes'].str.upper() \n",
    "data_copy['IHD'] = data_copy['IHD'].str.upper() \n",
    "data_copy['Hypertension'] = data_copy['Hypertension'].str.upper() \n",
    "data_copy['Arrhythmia'] = data_copy['Arrhythmia'].str.upper() \n",
    "data_copy['History'] = data_copy['History'].str.upper() \n",
    "data_copy['label'] = data_copy['label'].str.upper() \n",
    "\n",
    "data_copy['Indication'].value_counts(dropna=False)"
   ]
  },
  {
   "cell_type": "code",
   "execution_count": 56,
   "metadata": {},
   "outputs": [],
   "source": [
    "# Displays count Indication graph\n",
    "\n",
    "#sb.countplot(data = data_copy, x= \"Indication\")\n",
    "#y = plt.ylabel(\"Amount of People\")\n",
    "#sb.catplot('label', col=\"Indication\", data = data_copy,kind='count' , height = 2.5)"
   ]
  },
  {
   "cell_type": "markdown",
   "metadata": {},
   "source": [
    "### One Hot Encoding - Indication\n",
    "Using One Hot Encoding to split Indication into 4 boolean columns to prevent the data being misinterpreted later on in other algorithms.\n",
    "https://pbpython.com/categorical-encoding.html"
   ]
  },
  {
   "cell_type": "code",
   "execution_count": 57,
   "metadata": {},
   "outputs": [
    {
     "data": {
      "text/html": [
       "<div>\n",
       "<style scoped>\n",
       "    .dataframe tbody tr th:only-of-type {\n",
       "        vertical-align: middle;\n",
       "    }\n",
       "\n",
       "    .dataframe tbody tr th {\n",
       "        vertical-align: top;\n",
       "    }\n",
       "\n",
       "    .dataframe thead th {\n",
       "        text-align: right;\n",
       "    }\n",
       "</style>\n",
       "<table border=\"1\" class=\"dataframe\">\n",
       "  <thead>\n",
       "    <tr style=\"text-align: right;\">\n",
       "      <th></th>\n",
       "      <th>Diabetes</th>\n",
       "      <th>IHD</th>\n",
       "      <th>Hypertension</th>\n",
       "      <th>Arrhythmia</th>\n",
       "      <th>History</th>\n",
       "      <th>IPSI</th>\n",
       "      <th>Contra</th>\n",
       "      <th>label</th>\n",
       "      <th>Indication_A-F</th>\n",
       "      <th>Indication_ASX</th>\n",
       "      <th>Indication_CVA</th>\n",
       "      <th>Indication_TIA</th>\n",
       "    </tr>\n",
       "  </thead>\n",
       "  <tbody>\n",
       "    <tr>\n",
       "      <th>0</th>\n",
       "      <td>NO</td>\n",
       "      <td>NO</td>\n",
       "      <td>YES</td>\n",
       "      <td>NO</td>\n",
       "      <td>NO</td>\n",
       "      <td>78.0</td>\n",
       "      <td>20</td>\n",
       "      <td>NORISK</td>\n",
       "      <td>1</td>\n",
       "      <td>0</td>\n",
       "      <td>0</td>\n",
       "      <td>0</td>\n",
       "    </tr>\n",
       "    <tr>\n",
       "      <th>1</th>\n",
       "      <td>NO</td>\n",
       "      <td>NO</td>\n",
       "      <td>NO</td>\n",
       "      <td>NO</td>\n",
       "      <td>NO</td>\n",
       "      <td>70.0</td>\n",
       "      <td>60</td>\n",
       "      <td>NORISK</td>\n",
       "      <td>0</td>\n",
       "      <td>0</td>\n",
       "      <td>0</td>\n",
       "      <td>1</td>\n",
       "    </tr>\n",
       "    <tr>\n",
       "      <th>2</th>\n",
       "      <td>NO</td>\n",
       "      <td>YES</td>\n",
       "      <td>YES</td>\n",
       "      <td>NO</td>\n",
       "      <td>NO</td>\n",
       "      <td>95.0</td>\n",
       "      <td>40</td>\n",
       "      <td>RISK</td>\n",
       "      <td>1</td>\n",
       "      <td>0</td>\n",
       "      <td>0</td>\n",
       "      <td>0</td>\n",
       "    </tr>\n",
       "    <tr>\n",
       "      <th>3</th>\n",
       "      <td>NO</td>\n",
       "      <td>NO</td>\n",
       "      <td>YES</td>\n",
       "      <td>NO</td>\n",
       "      <td>NO</td>\n",
       "      <td>90.0</td>\n",
       "      <td>85</td>\n",
       "      <td>RISK</td>\n",
       "      <td>0</td>\n",
       "      <td>0</td>\n",
       "      <td>0</td>\n",
       "      <td>1</td>\n",
       "    </tr>\n",
       "    <tr>\n",
       "      <th>4</th>\n",
       "      <td>NO</td>\n",
       "      <td>NO</td>\n",
       "      <td>NO</td>\n",
       "      <td>NO</td>\n",
       "      <td>NO</td>\n",
       "      <td>70.0</td>\n",
       "      <td>20</td>\n",
       "      <td>NORISK</td>\n",
       "      <td>0</td>\n",
       "      <td>0</td>\n",
       "      <td>1</td>\n",
       "      <td>0</td>\n",
       "    </tr>\n",
       "  </tbody>\n",
       "</table>\n",
       "</div>"
      ],
      "text/plain": [
       "  Diabetes  IHD Hypertension Arrhythmia History  IPSI Contra   label  \\\n",
       "0       NO   NO          YES         NO      NO  78.0    20   NORISK   \n",
       "1       NO   NO           NO         NO      NO  70.0    60   NORISK   \n",
       "2       NO  YES          YES         NO      NO  95.0     40    RISK   \n",
       "3       NO   NO          YES         NO      NO  90.0     85    RISK   \n",
       "4       NO   NO           NO         NO      NO  70.0    20   NORISK   \n",
       "\n",
       "   Indication_A-F  Indication_ASX  Indication_CVA  Indication_TIA  \n",
       "0               1               0               0               0  \n",
       "1               0               0               0               1  \n",
       "2               1               0               0               0  \n",
       "3               0               0               0               1  \n",
       "4               0               0               1               0  "
      ]
     },
     "execution_count": 57,
     "metadata": {},
     "output_type": "execute_result"
    }
   ],
   "source": [
    "data_copy = pd.get_dummies(data_copy, columns=[\"Indication\"])\n",
    "data_copy.head()"
   ]
  },
  {
   "cell_type": "markdown",
   "metadata": {},
   "source": [
    "### Inspecting each binary column. "
   ]
  },
  {
   "cell_type": "code",
   "execution_count": 58,
   "metadata": {},
   "outputs": [
    {
     "data": {
      "text/plain": [
       "NO     1428\n",
       "YES      75\n",
       "Name: Diabetes, dtype: int64"
      ]
     },
     "execution_count": 58,
     "metadata": {},
     "output_type": "execute_result"
    }
   ],
   "source": [
    "data_copy['Diabetes'].value_counts(dropna=False)"
   ]
  },
  {
   "cell_type": "code",
   "execution_count": 59,
   "metadata": {},
   "outputs": [
    {
     "data": {
      "text/plain": [
       "NO     791\n",
       "YES    712\n",
       "Name: IHD, dtype: int64"
      ]
     },
     "execution_count": 59,
     "metadata": {},
     "output_type": "execute_result"
    }
   ],
   "source": [
    "data_copy['IHD'].value_counts(dropna=False)"
   ]
  },
  {
   "cell_type": "code",
   "execution_count": 60,
   "metadata": {},
   "outputs": [
    {
     "data": {
      "text/plain": [
       "NO     777\n",
       "YES    726\n",
       "Name: Hypertension, dtype: int64"
      ]
     },
     "execution_count": 60,
     "metadata": {},
     "output_type": "execute_result"
    }
   ],
   "source": [
    "data_copy['Hypertension'].value_counts(dropna=False)"
   ]
  },
  {
   "cell_type": "code",
   "execution_count": 61,
   "metadata": {},
   "outputs": [
    {
     "data": {
      "text/plain": [
       "NO     1179\n",
       "YES     324\n",
       "Name: Arrhythmia, dtype: int64"
      ]
     },
     "execution_count": 61,
     "metadata": {},
     "output_type": "execute_result"
    }
   ],
   "source": [
    "data_copy['Arrhythmia'].value_counts(dropna=False)"
   ]
  },
  {
   "cell_type": "code",
   "execution_count": 62,
   "metadata": {},
   "outputs": [
    {
     "data": {
      "text/plain": [
       "NO     1481\n",
       "YES      22\n",
       "Name: History, dtype: int64"
      ]
     },
     "execution_count": 62,
     "metadata": {},
     "output_type": "execute_result"
    }
   ],
   "source": [
    "data_copy['History'].value_counts(dropna=False)"
   ]
  },
  {
   "cell_type": "markdown",
   "metadata": {},
   "source": [
    "### Changing each binary column to display True for YES and False for NO.\n",
    "Setting these values to true and false will make them readable to algorithms and models later on"
   ]
  },
  {
   "cell_type": "code",
   "execution_count": 63,
   "metadata": {},
   "outputs": [
    {
     "data": {
      "text/html": [
       "<div>\n",
       "<style scoped>\n",
       "    .dataframe tbody tr th:only-of-type {\n",
       "        vertical-align: middle;\n",
       "    }\n",
       "\n",
       "    .dataframe tbody tr th {\n",
       "        vertical-align: top;\n",
       "    }\n",
       "\n",
       "    .dataframe thead th {\n",
       "        text-align: right;\n",
       "    }\n",
       "</style>\n",
       "<table border=\"1\" class=\"dataframe\">\n",
       "  <thead>\n",
       "    <tr style=\"text-align: right;\">\n",
       "      <th></th>\n",
       "      <th>IPSI</th>\n",
       "      <th>Contra</th>\n",
       "      <th>label</th>\n",
       "      <th>Indication_A-F</th>\n",
       "      <th>Indication_ASX</th>\n",
       "      <th>Indication_CVA</th>\n",
       "      <th>Indication_TIA</th>\n",
       "      <th>Diabetes_bool</th>\n",
       "      <th>IHD_bool</th>\n",
       "      <th>Hypertension_bool</th>\n",
       "      <th>Arrhythmia_bool</th>\n",
       "      <th>History_bool</th>\n",
       "    </tr>\n",
       "  </thead>\n",
       "  <tbody>\n",
       "    <tr>\n",
       "      <th>0</th>\n",
       "      <td>78.0</td>\n",
       "      <td>20</td>\n",
       "      <td>NORISK</td>\n",
       "      <td>1</td>\n",
       "      <td>0</td>\n",
       "      <td>0</td>\n",
       "      <td>0</td>\n",
       "      <td>False</td>\n",
       "      <td>False</td>\n",
       "      <td>True</td>\n",
       "      <td>False</td>\n",
       "      <td>False</td>\n",
       "    </tr>\n",
       "    <tr>\n",
       "      <th>1</th>\n",
       "      <td>70.0</td>\n",
       "      <td>60</td>\n",
       "      <td>NORISK</td>\n",
       "      <td>0</td>\n",
       "      <td>0</td>\n",
       "      <td>0</td>\n",
       "      <td>1</td>\n",
       "      <td>False</td>\n",
       "      <td>False</td>\n",
       "      <td>False</td>\n",
       "      <td>False</td>\n",
       "      <td>False</td>\n",
       "    </tr>\n",
       "    <tr>\n",
       "      <th>2</th>\n",
       "      <td>95.0</td>\n",
       "      <td>40</td>\n",
       "      <td>RISK</td>\n",
       "      <td>1</td>\n",
       "      <td>0</td>\n",
       "      <td>0</td>\n",
       "      <td>0</td>\n",
       "      <td>False</td>\n",
       "      <td>True</td>\n",
       "      <td>True</td>\n",
       "      <td>False</td>\n",
       "      <td>False</td>\n",
       "    </tr>\n",
       "    <tr>\n",
       "      <th>3</th>\n",
       "      <td>90.0</td>\n",
       "      <td>85</td>\n",
       "      <td>RISK</td>\n",
       "      <td>0</td>\n",
       "      <td>0</td>\n",
       "      <td>0</td>\n",
       "      <td>1</td>\n",
       "      <td>False</td>\n",
       "      <td>False</td>\n",
       "      <td>True</td>\n",
       "      <td>False</td>\n",
       "      <td>False</td>\n",
       "    </tr>\n",
       "    <tr>\n",
       "      <th>4</th>\n",
       "      <td>70.0</td>\n",
       "      <td>20</td>\n",
       "      <td>NORISK</td>\n",
       "      <td>0</td>\n",
       "      <td>0</td>\n",
       "      <td>1</td>\n",
       "      <td>0</td>\n",
       "      <td>False</td>\n",
       "      <td>False</td>\n",
       "      <td>False</td>\n",
       "      <td>False</td>\n",
       "      <td>False</td>\n",
       "    </tr>\n",
       "  </tbody>\n",
       "</table>\n",
       "</div>"
      ],
      "text/plain": [
       "   IPSI Contra   label  Indication_A-F  Indication_ASX  Indication_CVA  \\\n",
       "0  78.0    20   NORISK               1               0               0   \n",
       "1  70.0    60   NORISK               0               0               0   \n",
       "2  95.0     40    RISK               1               0               0   \n",
       "3  90.0     85    RISK               0               0               0   \n",
       "4  70.0    20   NORISK               0               0               1   \n",
       "\n",
       "   Indication_TIA  Diabetes_bool  IHD_bool  Hypertension_bool  \\\n",
       "0               0          False     False               True   \n",
       "1               1          False     False              False   \n",
       "2               0          False      True               True   \n",
       "3               1          False     False               True   \n",
       "4               0          False     False              False   \n",
       "\n",
       "   Arrhythmia_bool  History_bool  \n",
       "0            False         False  \n",
       "1            False         False  \n",
       "2            False         False  \n",
       "3            False         False  \n",
       "4            False         False  "
      ]
     },
     "execution_count": 63,
     "metadata": {},
     "output_type": "execute_result"
    }
   ],
   "source": [
    "# Creating a map to change YES and NO to True and False respectively\n",
    "yesToTrue = {'YES': True,'NO': False}\n",
    "\n",
    "# Creating new columns in our data, Displaying True or False instead\n",
    "data_copy = data_copy.assign(Diabetes_bool = data_copy['Diabetes'].map(yesToTrue),\n",
    "                      IHD_bool = data_copy['IHD'].map(yesToTrue),\n",
    "                      Hypertension_bool = data_copy['Hypertension'].map(yesToTrue),\n",
    "                      Arrhythmia_bool = data_copy['Arrhythmia'].map(yesToTrue),\n",
    "                      History_bool = data_copy['History'].map(yesToTrue))\n",
    "\n",
    "# Now dropping the old columns which displayed YES or NO\n",
    "data_copy = data_copy.drop(columns=['Diabetes','IHD','Hypertension','Arrhythmia','History'])\n",
    "\n",
    "data_copy.head()\n"
   ]
  },
  {
   "cell_type": "markdown",
   "metadata": {},
   "source": [
    "### Inspecting column Contra"
   ]
  },
  {
   "cell_type": "code",
   "execution_count": 64,
   "metadata": {},
   "outputs": [
    {
     "data": {
      "text/plain": [
       "100     238\n",
       "20      191\n",
       "30      150\n",
       "50      131\n",
       "40      101\n",
       "60       93\n",
       "50       51\n",
       "10       49\n",
       "100      39\n",
       "90       34\n",
       "70       34\n",
       "95       32\n",
       "75       31\n",
       "25       30\n",
       "75       29\n",
       "80       29\n",
       "85       24\n",
       "80       24\n",
       "35       22\n",
       "15       18\n",
       "70       18\n",
       "55       14\n",
       "65       13\n",
       "30       12\n",
       "85       11\n",
       "51       11\n",
       "90       10\n",
       "53        9\n",
       "55        9\n",
       "73        7\n",
       "40        7\n",
       "60        6\n",
       "45        6\n",
       "35        5\n",
       "65        4\n",
       "16        4\n",
       "62        3\n",
       "79        2\n",
       "          1\n",
       "10        1\n",
       "Name: Contra, dtype: int64"
      ]
     },
     "execution_count": 64,
     "metadata": {},
     "output_type": "execute_result"
    }
   ],
   "source": [
    "data_copy['Contra'].value_counts(dropna=False)"
   ]
  },
  {
   "cell_type": "markdown",
   "metadata": {},
   "source": [
    "### Compare column Contra to IPSI\n",
    "An empty value is present in Contra.  \n",
    "Will compare to IPSI to see if any coorelation is present."
   ]
  },
  {
   "cell_type": "code",
   "execution_count": 65,
   "metadata": {},
   "outputs": [
    {
     "data": {
      "text/plain": [
       "Text(0.5, 0, 'Contra')"
      ]
     },
     "execution_count": 65,
     "metadata": {},
     "output_type": "execute_result"
    },
    {
     "data": {
      "image/png": "[encoded data removed]",
      "text/plain": [
       "<Figure size 432x288 with 1 Axes>"
      ]
     },
     "metadata": {
      "needs_background": "light"
     },
     "output_type": "display_data"
    }
   ],
   "source": [
    "colour = data_copy.label.map({'RISK':'b','NORISK':'r', 'UNKNOWN':'g', 'NAN':'y' })\n",
    "ax1 = plt.scatter(data_copy['Contra'], data_copy['IPSI'],c= colour)\n",
    "ax1.axes.set_ylabel('IPSI')\n",
    "ax1.axes.set_xlabel('Contra')"
   ]
  },
  {
   "cell_type": "markdown",
   "metadata": {},
   "source": [
    "### Turning empty value in Contra to NaN\n",
    "No correlation was found between Contra and IPSI alone. Therefore changing the value to NaN and will drop later."
   ]
  },
  {
   "cell_type": "code",
   "execution_count": 66,
   "metadata": {},
   "outputs": [],
   "source": [
    "data_copy=data_copy.replace(r'^\\s*$', np.nan, regex=True)#\n",
    "#data_copy.dropna(inplace=True)\n",
    "#data_copy['Contra'].value_counts(dropna=False)"
   ]
  },
  {
   "cell_type": "markdown",
   "metadata": {},
   "source": [
    "### Inspect column label\n"
   ]
  },
  {
   "cell_type": "code",
   "execution_count": 67,
   "metadata": {},
   "outputs": [
    {
     "data": {
      "text/plain": [
       "NORISK     1001\n",
       "RISK        500\n",
       "UNKNOWN       2\n",
       "Name: label, dtype: int64"
      ]
     },
     "execution_count": 67,
     "metadata": {},
     "output_type": "execute_result"
    }
   ],
   "source": [
    "data_copy['label'].value_counts(dropna=False)"
   ]
  },
  {
   "cell_type": "markdown",
   "metadata": {},
   "source": [
    "### Removing records contain UNKNOWN\n",
    "Column lable contains two UNKNOWN values.   \n",
    "Changing these to NaN and dropping"
   ]
  },
  {
   "cell_type": "code",
   "execution_count": 68,
   "metadata": {},
   "outputs": [],
   "source": [
    "data_copy['label'] = data_copy['label'].replace(\"UNKNOWN\", np.nan)\n",
    "data_copy.dropna(inplace=True)"
   ]
  },
  {
   "cell_type": "code",
   "execution_count": 69,
   "metadata": {},
   "outputs": [
    {
     "data": {
      "text/html": [
       "<div>\n",
       "<style scoped>\n",
       "    .dataframe tbody tr th:only-of-type {\n",
       "        vertical-align: middle;\n",
       "    }\n",
       "\n",
       "    .dataframe tbody tr th {\n",
       "        vertical-align: top;\n",
       "    }\n",
       "\n",
       "    .dataframe thead th {\n",
       "        text-align: right;\n",
       "    }\n",
       "</style>\n",
       "<table border=\"1\" class=\"dataframe\">\n",
       "  <thead>\n",
       "    <tr style=\"text-align: right;\">\n",
       "      <th></th>\n",
       "      <th>IPSI</th>\n",
       "      <th>Contra</th>\n",
       "      <th>Indication_A-F</th>\n",
       "      <th>Indication_ASX</th>\n",
       "      <th>Indication_CVA</th>\n",
       "      <th>Indication_TIA</th>\n",
       "      <th>Diabetes_bool</th>\n",
       "      <th>IHD_bool</th>\n",
       "      <th>Hypertension_bool</th>\n",
       "      <th>Arrhythmia_bool</th>\n",
       "      <th>History_bool</th>\n",
       "      <th>label_bool</th>\n",
       "    </tr>\n",
       "  </thead>\n",
       "  <tbody>\n",
       "    <tr>\n",
       "      <th>0</th>\n",
       "      <td>78.0</td>\n",
       "      <td>20</td>\n",
       "      <td>1</td>\n",
       "      <td>0</td>\n",
       "      <td>0</td>\n",
       "      <td>0</td>\n",
       "      <td>False</td>\n",
       "      <td>False</td>\n",
       "      <td>True</td>\n",
       "      <td>False</td>\n",
       "      <td>False</td>\n",
       "      <td>0</td>\n",
       "    </tr>\n",
       "    <tr>\n",
       "      <th>1</th>\n",
       "      <td>70.0</td>\n",
       "      <td>60</td>\n",
       "      <td>0</td>\n",
       "      <td>0</td>\n",
       "      <td>0</td>\n",
       "      <td>1</td>\n",
       "      <td>False</td>\n",
       "      <td>False</td>\n",
       "      <td>False</td>\n",
       "      <td>False</td>\n",
       "      <td>False</td>\n",
       "      <td>0</td>\n",
       "    </tr>\n",
       "    <tr>\n",
       "      <th>2</th>\n",
       "      <td>95.0</td>\n",
       "      <td>40</td>\n",
       "      <td>1</td>\n",
       "      <td>0</td>\n",
       "      <td>0</td>\n",
       "      <td>0</td>\n",
       "      <td>False</td>\n",
       "      <td>True</td>\n",
       "      <td>True</td>\n",
       "      <td>False</td>\n",
       "      <td>False</td>\n",
       "      <td>1</td>\n",
       "    </tr>\n",
       "    <tr>\n",
       "      <th>3</th>\n",
       "      <td>90.0</td>\n",
       "      <td>85</td>\n",
       "      <td>0</td>\n",
       "      <td>0</td>\n",
       "      <td>0</td>\n",
       "      <td>1</td>\n",
       "      <td>False</td>\n",
       "      <td>False</td>\n",
       "      <td>True</td>\n",
       "      <td>False</td>\n",
       "      <td>False</td>\n",
       "      <td>1</td>\n",
       "    </tr>\n",
       "    <tr>\n",
       "      <th>4</th>\n",
       "      <td>70.0</td>\n",
       "      <td>20</td>\n",
       "      <td>0</td>\n",
       "      <td>0</td>\n",
       "      <td>1</td>\n",
       "      <td>0</td>\n",
       "      <td>False</td>\n",
       "      <td>False</td>\n",
       "      <td>False</td>\n",
       "      <td>False</td>\n",
       "      <td>False</td>\n",
       "      <td>0</td>\n",
       "    </tr>\n",
       "  </tbody>\n",
       "</table>\n",
       "</div>"
      ],
      "text/plain": [
       "   IPSI Contra  Indication_A-F  Indication_ASX  Indication_CVA  \\\n",
       "0  78.0    20                1               0               0   \n",
       "1  70.0    60                0               0               0   \n",
       "2  95.0     40               1               0               0   \n",
       "3  90.0     85               0               0               0   \n",
       "4  70.0    20                0               0               1   \n",
       "\n",
       "   Indication_TIA  Diabetes_bool  IHD_bool  Hypertension_bool  \\\n",
       "0               0          False     False               True   \n",
       "1               1          False     False              False   \n",
       "2               0          False      True               True   \n",
       "3               1          False     False               True   \n",
       "4               0          False     False              False   \n",
       "\n",
       "   Arrhythmia_bool  History_bool  label_bool  \n",
       "0            False         False           0  \n",
       "1            False         False           0  \n",
       "2            False         False           1  \n",
       "3            False         False           1  \n",
       "4            False         False           0  "
      ]
     },
     "execution_count": 69,
     "metadata": {},
     "output_type": "execute_result"
    }
   ],
   "source": [
    "# Creating a map to change YES and NO to True and False respectively\n",
    "riskToTrue = {'RISK': 1,'NORISK': 0}\n",
    "\n",
    "data_copy = data_copy.assign(label_bool = data_copy['label'].map(riskToTrue))\n",
    "data_copy = data_copy.drop(columns=['label'])\n",
    "data_copy.head()"
   ]
  },
  {
   "cell_type": "markdown",
   "metadata": {},
   "source": [
    "# 3. Data Models\n",
    "Will be creating multiple models to analyse the data.  \n",
    "These models will be using a 70%-30% split of training and test data respectively.\n",
    "\n",
    "\n",
    "### Define X & Y.  \n",
    "X being our cleaned and filtered data without the label column.  \n",
    "Y being our label values."
   ]
  },
  {
   "cell_type": "code",
   "execution_count": 70,
   "metadata": {},
   "outputs": [],
   "source": [
    "# Define our x and y values for our training model\n",
    "# X contains all columns except label\n",
    "X = data_copy.drop(columns=['label_bool'])\n",
    "\n",
    "# Y contains label values.\n",
    "Y = data_copy['label_bool'].values"
   ]
  },
  {
   "cell_type": "markdown",
   "metadata": {},
   "source": [
    "### Create train test split\n",
    "Once we have our X and Y, we can split our data into 30% test data and 70% training data"
   ]
  },
  {
   "cell_type": "code",
   "execution_count": 71,
   "metadata": {},
   "outputs": [],
   "source": [
    "xTrain, xTest, yTrain, yTest = train_test_split(X,Y,test_size=0.3, shuffle=True)"
   ]
  },
  {
   "cell_type": "markdown",
   "metadata": {},
   "source": [
    "## Nearest Neighbour Model (KNN)\n",
    "https://towardsdatascience.com/building-a-k-nearest-neighbors-k-nn-model-with-scikit-learn-51209555453a  \n",
    "https://towardsdatascience.com/knn-using-scikit-learn-c6bed765be75   \n",
    "https://www.quora.com/How-can-I-choose-the-best-K-in-KNN-K-nearest-neighbour-classification  \n",
    "KNN model requires a value K. K determines how many neighbours are used to decide a given value.\n",
    "\n",
    "To find the best value for K, we will create multiple KNN models with different K values and inspect each of their accuracies."
   ]
  },
  {
   "cell_type": "markdown",
   "metadata": {},
   "source": [
    "### Finding a value for K - Using Predictor"
   ]
  },
  {
   "cell_type": "code",
   "execution_count": 72,
   "metadata": {},
   "outputs": [],
   "source": [
    "k_range = range(1,50)\n",
    "knn_scores = {}\n",
    "knn_scores_list = []\n",
    "for k in k_range:\n",
    "    knn = KNeighborsClassifier(n_neighbors=k, metric ='euclidean')\n",
    "    knn.fit(xTrain,yTrain)\n",
    "    yPred = knn.predict(xTest)\n",
    "    knn_scores[k] = metrics.accuracy_score(yTest,yPred)\n",
    "    knn_scores_list.append(metrics.accuracy_score(yTest,yPred))"
   ]
  },
  {
   "cell_type": "code",
   "execution_count": 73,
   "metadata": {},
   "outputs": [
    {
     "name": "stdout",
     "output_type": "stream",
     "text": [
      "[0.9777777777777777, 0.9666666666666667, 0.9622222222222222, 0.96, 0.9511111111111111, 0.9466666666666667, 0.9355555555555556, 0.94, 0.9377777777777778, 0.9266666666666666, 0.9222222222222223, 0.9155555555555556, 0.9222222222222223, 0.9155555555555556, 0.9111111111111111, 0.9066666666666666, 0.9044444444444445, 0.9, 0.9133333333333333, 0.9, 0.9022222222222223, 0.8911111111111111, 0.8866666666666667, 0.8822222222222222, 0.8844444444444445, 0.8844444444444445, 0.8844444444444445, 0.8822222222222222, 0.8822222222222222, 0.88, 0.8755555555555555, 0.8777777777777778, 0.8844444444444445, 0.8777777777777778, 0.88, 0.88, 0.8822222222222222, 0.8822222222222222, 0.8822222222222222, 0.8777777777777778, 0.8777777777777778, 0.88, 0.8711111111111111, 0.8711111111111111, 0.8711111111111111, 0.8622222222222222, 0.8666666666666667, 0.8688888888888889, 0.8688888888888889]\n"
     ]
    },
    {
     "data": {
      "image/png": "[encoded data removed]",
      "text/plain": [
       "<Figure size 432x288 with 1 Axes>"
      ]
     },
     "metadata": {
      "needs_background": "light"
     },
     "output_type": "display_data"
    }
   ],
   "source": [
    "plt.plot(k_range,knn_scores_list)\n",
    "plt.xlabel('Value of K for KNN')\n",
    "plt.ylabel('Testing Accuracy')\n",
    "print(knn_scores_list)\n",
    "## 0.98, 0.9822, 0.991, 0.984"
   ]
  },
  {
   "cell_type": "markdown",
   "metadata": {},
   "source": [
    "### Finding a value for K - Using K-Fold Cross Validation"
   ]
  },
  {
   "cell_type": "code",
   "execution_count": 74,
   "metadata": {},
   "outputs": [
    {
     "name": "stdout",
     "output_type": "stream",
     "text": [
      "[0.9853333333333334, 0.9773333333333335, 0.9673333333333334, 0.9566666666666667, 0.9493333333333333, 0.9433333333333334, 0.938, 0.9346666666666665, 0.9306666666666666, 0.9213333333333334, 0.9173333333333333, 0.916, 0.914, 0.9093333333333333, 0.9113333333333333, 0.9120000000000001, 0.9120000000000001, 0.9113333333333336, 0.9066666666666666, 0.9073333333333332, 0.9046666666666667, 0.9026666666666665, 0.9013333333333333, 0.8986666666666668, 0.8986666666666666, 0.8960000000000001, 0.8966666666666667, 0.8959999999999999, 0.8979999999999999, 0.89, 0.8826666666666668, 0.8806666666666668, 0.8753333333333334, 0.876, 0.8753333333333332, 0.876, 0.8753333333333334, 0.8753333333333334, 0.876, 0.8746666666666666, 0.8766666666666667, 0.8753333333333334, 0.8766666666666667, 0.8766666666666667, 0.876, 0.8773333333333333, 0.8766666666666667, 0.8766666666666666, 0.8766666666666666]\n"
     ]
    },
    {
     "data": {
      "image/png": "[encoded data removed]",
      "text/plain": [
       "<Figure size 432x288 with 1 Axes>"
      ]
     },
     "metadata": {
      "needs_background": "light"
     },
     "output_type": "display_data"
    }
   ],
   "source": [
    "cv_scores = {}\n",
    "cv_scores_list = []\n",
    "for k in k_range:\n",
    "    knn = KNeighborsClassifier(n_neighbors=k, metric ='euclidean')\n",
    "    cv_scores[k] = np.mean(cross_val_score(knn, X, Y, cv=10))\n",
    "    cv_scores_list.append(cv_scores[k])\n",
    "    \n",
    "plt.plot(k_range,cv_scores_list)\n",
    "plt.xlabel('Value of K for KNN')\n",
    "plt.ylabel('Testing Accuracy')\n",
    "print(cv_scores_list)"
   ]
  },
  {
   "cell_type": "markdown",
   "metadata": {},
   "source": [
    "### Finding a value for K - Square root n  \n",
    "n being the number of data points"
   ]
  },
  {
   "cell_type": "code",
   "execution_count": 75,
   "metadata": {},
   "outputs": [
    {
     "name": "stdout",
     "output_type": "stream",
     "text": [
      "32.4037034920393\n"
     ]
    }
   ],
   "source": [
    "print (math.sqrt(len(yTrain)))"
   ]
  },
  {
   "cell_type": "markdown",
   "metadata": {},
   "source": [
    "### Implementing K into KNN model\n",
    "Setting k to 31."
   ]
  },
  {
   "cell_type": "code",
   "execution_count": 76,
   "metadata": {},
   "outputs": [
    {
     "data": {
      "text/plain": [
       "KNeighborsClassifier(algorithm='auto', leaf_size=30, metric='minkowski',\n",
       "                     metric_params=None, n_jobs=None, n_neighbors=31, p=2,\n",
       "                     weights='uniform')"
      ]
     },
     "execution_count": 76,
     "metadata": {},
     "output_type": "execute_result"
    }
   ],
   "source": [
    "# Create our KNN classifier. Setting K to 31\n",
    "knn = KNeighborsClassifier(n_neighbors = 31)\n",
    " \n",
    "# Fit our trained data in the classifer\n",
    "knn.fit (xTrain, yTrain)"
   ]
  },
  {
   "cell_type": "code",
   "execution_count": 77,
   "metadata": {},
   "outputs": [
    {
     "data": {
      "text/plain": [
       "0.8755555555555555"
      ]
     },
     "execution_count": 77,
     "metadata": {},
     "output_type": "execute_result"
    }
   ],
   "source": [
    "# Check accuracy of our model\n",
    "knn.score(xTest, yTest)"
   ]
  },
  {
   "cell_type": "code",
   "execution_count": 78,
   "metadata": {},
   "outputs": [
    {
     "name": "stdout",
     "output_type": "stream",
     "text": [
      "              precision    recall  f1-score   support\n",
      "\n",
      "           0       0.88      0.93      0.90       290\n",
      "           1       0.85      0.76      0.81       160\n",
      "\n",
      "    accuracy                           0.87       450\n",
      "   macro avg       0.86      0.85      0.85       450\n",
      "weighted avg       0.87      0.87      0.87       450\n",
      "\n"
     ]
    }
   ],
   "source": [
    "print(metrics.classification_report(yTest,yPred))"
   ]
  },
  {
   "cell_type": "markdown",
   "metadata": {},
   "source": [
    "## Decision Tree Model\n",
    "https://towardsdatascience.com/scikit-learn-decision-trees-explained-803f3812290d"
   ]
  },
  {
   "cell_type": "code",
   "execution_count": 79,
   "metadata": {},
   "outputs": [
    {
     "data": {
      "text/plain": [
       "[Text(741.764423076923, 1037.7818181818182, 'X[9] <= 0.5\\ngini = 0.438\\nsamples = 1050\\nvalue = [710, 340]'),\n",
       " Text(528.4903846153845, 938.9454545454546, 'X[1] <= 74.0\\ngini = 0.25\\nsamples = 825\\nvalue = [704, 121]'),\n",
       " Text(348.75, 840.1090909090909, 'X[0] <= 87.5\\ngini = 0.102\\nsamples = 651\\nvalue = [616, 35]'),\n",
       " Text(203.88461538461536, 741.2727272727273, 'X[1] <= 61.0\\ngini = 0.054\\nsamples = 578\\nvalue = [562, 16]'),\n",
       " Text(107.30769230769229, 642.4363636363637, 'X[2] <= 0.5\\ngini = 0.036\\nsamples = 538\\nvalue = [528, 10]'),\n",
       " Text(42.92307692307692, 543.6, 'X[3] <= 0.5\\ngini = 0.005\\nsamples = 380\\nvalue = [379, 1]'),\n",
       " Text(21.46153846153846, 444.76363636363635, 'gini = 0.0\\nsamples = 327\\nvalue = [327, 0]'),\n",
       " Text(64.38461538461539, 444.76363636363635, 'X[1] <= 42.5\\ngini = 0.037\\nsamples = 53\\nvalue = [52, 1]'),\n",
       " Text(42.92307692307692, 345.9272727272727, 'gini = 0.0\\nsamples = 44\\nvalue = [44, 0]'),\n",
       " Text(85.84615384615384, 345.9272727272727, 'X[1] <= 55.0\\ngini = 0.198\\nsamples = 9\\nvalue = [8, 1]'),\n",
       " Text(64.38461538461539, 247.09090909090912, 'X[0] <= 75.5\\ngini = 0.32\\nsamples = 5\\nvalue = [4, 1]'),\n",
       " Text(42.92307692307692, 148.25454545454545, 'gini = 0.0\\nsamples = 1\\nvalue = [0, 1]'),\n",
       " Text(85.84615384615384, 148.25454545454545, 'gini = 0.0\\nsamples = 4\\nvalue = [4, 0]'),\n",
       " Text(107.30769230769229, 247.09090909090912, 'gini = 0.0\\nsamples = 4\\nvalue = [4, 0]'),\n",
       " Text(171.69230769230768, 543.6, 'X[10] <= 0.5\\ngini = 0.107\\nsamples = 158\\nvalue = [149, 9]'),\n",
       " Text(150.23076923076923, 444.76363636363635, 'X[8] <= 0.5\\ngini = 0.097\\nsamples = 157\\nvalue = [149, 8]'),\n",
       " Text(128.76923076923077, 345.9272727272727, 'gini = 0.0\\nsamples = 104\\nvalue = [104, 0]'),\n",
       " Text(171.69230769230768, 345.9272727272727, 'X[7] <= 0.5\\ngini = 0.256\\nsamples = 53\\nvalue = [45, 8]'),\n",
       " Text(150.23076923076923, 247.09090909090912, 'gini = 0.0\\nsamples = 27\\nvalue = [27, 0]'),\n",
       " Text(193.15384615384613, 247.09090909090912, 'X[1] <= 25.0\\ngini = 0.426\\nsamples = 26\\nvalue = [18, 8]'),\n",
       " Text(171.69230769230768, 148.25454545454545, 'gini = 0.0\\nsamples = 12\\nvalue = [12, 0]'),\n",
       " Text(214.61538461538458, 148.25454545454545, 'X[0] <= 72.5\\ngini = 0.49\\nsamples = 14\\nvalue = [6, 8]'),\n",
       " Text(193.15384615384613, 49.41818181818189, 'gini = 0.0\\nsamples = 6\\nvalue = [6, 0]'),\n",
       " Text(236.07692307692307, 49.41818181818189, 'gini = 0.0\\nsamples = 8\\nvalue = [0, 8]'),\n",
       " Text(193.15384615384613, 444.76363636363635, 'gini = 0.0\\nsamples = 1\\nvalue = [0, 1]'),\n",
       " Text(300.46153846153845, 642.4363636363637, 'X[8] <= 0.5\\ngini = 0.255\\nsamples = 40\\nvalue = [34, 6]'),\n",
       " Text(257.53846153846155, 543.6, 'X[6] <= 0.5\\ngini = 0.062\\nsamples = 31\\nvalue = [30, 1]'),\n",
       " Text(236.07692307692307, 444.76363636363635, 'gini = 0.0\\nsamples = 30\\nvalue = [30, 0]'),\n",
       " Text(279.0, 444.76363636363635, 'gini = 0.0\\nsamples = 1\\nvalue = [0, 1]'),\n",
       " Text(343.38461538461536, 543.6, 'X[5] <= 0.5\\ngini = 0.494\\nsamples = 9\\nvalue = [4, 5]'),\n",
       " Text(321.9230769230769, 444.76363636363635, 'gini = 0.0\\nsamples = 3\\nvalue = [0, 3]'),\n",
       " Text(364.8461538461538, 444.76363636363635, 'X[1] <= 67.5\\ngini = 0.444\\nsamples = 6\\nvalue = [4, 2]'),\n",
       " Text(343.38461538461536, 345.9272727272727, 'gini = 0.0\\nsamples = 2\\nvalue = [0, 2]'),\n",
       " Text(386.30769230769226, 345.9272727272727, 'gini = 0.0\\nsamples = 4\\nvalue = [4, 0]'),\n",
       " Text(493.6153846153846, 741.2727272727273, 'X[8] <= 0.5\\ngini = 0.385\\nsamples = 73\\nvalue = [54, 19]'),\n",
       " Text(450.6923076923077, 642.4363636363637, 'X[6] <= 0.5\\ngini = 0.07\\nsamples = 55\\nvalue = [53, 2]'),\n",
       " Text(429.23076923076917, 543.6, 'X[7] <= 0.5\\ngini = 0.036\\nsamples = 54\\nvalue = [53, 1]'),\n",
       " Text(407.7692307692307, 444.76363636363635, 'gini = 0.0\\nsamples = 48\\nvalue = [48, 0]'),\n",
       " Text(450.6923076923077, 444.76363636363635, 'X[0] <= 94.5\\ngini = 0.278\\nsamples = 6\\nvalue = [5, 1]'),\n",
       " Text(429.23076923076917, 345.9272727272727, 'gini = 0.0\\nsamples = 5\\nvalue = [5, 0]'),\n",
       " Text(472.15384615384613, 345.9272727272727, 'gini = 0.0\\nsamples = 1\\nvalue = [0, 1]'),\n",
       " Text(472.15384615384613, 543.6, 'gini = 0.0\\nsamples = 1\\nvalue = [0, 1]'),\n",
       " Text(536.5384615384615, 642.4363636363637, 'X[1] <= 27.5\\ngini = 0.105\\nsamples = 18\\nvalue = [1, 17]'),\n",
       " Text(515.0769230769231, 543.6, 'X[7] <= 0.5\\ngini = 0.5\\nsamples = 2\\nvalue = [1, 1]'),\n",
       " Text(493.6153846153846, 444.76363636363635, 'gini = 0.0\\nsamples = 1\\nvalue = [1, 0]'),\n",
       " Text(536.5384615384615, 444.76363636363635, 'gini = 0.0\\nsamples = 1\\nvalue = [0, 1]'),\n",
       " Text(558.0, 543.6, 'gini = 0.0\\nsamples = 16\\nvalue = [0, 16]'),\n",
       " Text(708.2307692307692, 840.1090909090909, 'X[8] <= 0.5\\ngini = 0.5\\nsamples = 174\\nvalue = [88, 86]'),\n",
       " Text(622.3846153846154, 741.2727272727273, 'X[1] <= 87.5\\ngini = 0.332\\nsamples = 95\\nvalue = [75, 20]'),\n",
       " Text(600.9230769230769, 642.4363636363637, 'gini = 0.0\\nsamples = 50\\nvalue = [50, 0]'),\n",
       " Text(643.8461538461538, 642.4363636363637, 'X[0] <= 77.5\\ngini = 0.494\\nsamples = 45\\nvalue = [25, 20]'),\n",
       " Text(600.9230769230769, 543.6, 'X[2] <= 0.5\\ngini = 0.219\\nsamples = 24\\nvalue = [21, 3]'),\n",
       " Text(579.4615384615385, 444.76363636363635, 'gini = 0.0\\nsamples = 21\\nvalue = [21, 0]'),\n",
       " Text(622.3846153846154, 444.76363636363635, 'gini = 0.0\\nsamples = 3\\nvalue = [0, 3]'),\n",
       " Text(686.7692307692307, 543.6, 'X[4] <= 0.5\\ngini = 0.308\\nsamples = 21\\nvalue = [4, 17]'),\n",
       " Text(665.3076923076923, 444.76363636363635, 'X[2] <= 0.5\\ngini = 0.255\\nsamples = 20\\nvalue = [3, 17]'),\n",
       " Text(643.8461538461538, 345.9272727272727, 'X[0] <= 92.5\\ngini = 0.397\\nsamples = 11\\nvalue = [3, 8]'),\n",
       " Text(622.3846153846154, 247.09090909090912, 'X[1] <= 95.0\\ngini = 0.5\\nsamples = 6\\nvalue = [3, 3]'),\n",
       " Text(600.9230769230769, 148.25454545454545, 'gini = 0.0\\nsamples = 2\\nvalue = [2, 0]'),\n",
       " Text(643.8461538461538, 148.25454545454545, 'X[3] <= 0.5\\ngini = 0.375\\nsamples = 4\\nvalue = [1, 3]'),\n",
       " Text(622.3846153846154, 49.41818181818189, 'gini = 0.0\\nsamples = 3\\nvalue = [0, 3]'),\n",
       " Text(665.3076923076923, 49.41818181818189, 'gini = 0.0\\nsamples = 1\\nvalue = [1, 0]'),\n",
       " Text(665.3076923076923, 247.09090909090912, 'gini = 0.0\\nsamples = 5\\nvalue = [0, 5]'),\n",
       " Text(686.7692307692307, 345.9272727272727, 'gini = 0.0\\nsamples = 9\\nvalue = [0, 9]'),\n",
       " Text(708.2307692307692, 444.76363636363635, 'gini = 0.0\\nsamples = 1\\nvalue = [1, 0]'),\n",
       " Text(794.076923076923, 741.2727272727273, 'X[0] <= 65.0\\ngini = 0.275\\nsamples = 79\\nvalue = [13, 66]'),\n",
       " Text(751.1538461538461, 642.4363636363637, 'X[1] <= 77.5\\ngini = 0.397\\nsamples = 11\\nvalue = [8, 3]'),\n",
       " Text(729.6923076923076, 543.6, 'gini = 0.0\\nsamples = 3\\nvalue = [0, 3]'),\n",
       " Text(772.6153846153845, 543.6, 'gini = 0.0\\nsamples = 8\\nvalue = [8, 0]'),\n",
       " Text(836.9999999999999, 642.4363636363637, 'X[0] <= 83.0\\ngini = 0.136\\nsamples = 68\\nvalue = [5, 63]'),\n",
       " Text(815.5384615384614, 543.6, 'X[5] <= 0.5\\ngini = 0.251\\nsamples = 34\\nvalue = [5, 29]'),\n",
       " Text(772.6153846153845, 444.76363636363635, 'X[2] <= 0.5\\ngini = 0.083\\nsamples = 23\\nvalue = [1, 22]'),\n",
       " Text(751.1538461538461, 345.9272727272727, 'gini = 0.0\\nsamples = 19\\nvalue = [0, 19]'),\n",
       " Text(794.076923076923, 345.9272727272727, 'X[1] <= 87.5\\ngini = 0.375\\nsamples = 4\\nvalue = [1, 3]'),\n",
       " Text(772.6153846153845, 247.09090909090912, 'gini = 0.0\\nsamples = 1\\nvalue = [1, 0]'),\n",
       " Text(815.5384615384614, 247.09090909090912, 'gini = 0.0\\nsamples = 3\\nvalue = [0, 3]'),\n",
       " Text(858.4615384615383, 444.76363636363635, 'X[7] <= 0.5\\ngini = 0.463\\nsamples = 11\\nvalue = [4, 7]'),\n",
       " Text(836.9999999999999, 345.9272727272727, 'gini = 0.0\\nsamples = 2\\nvalue = [2, 0]'),\n",
       " Text(879.9230769230769, 345.9272727272727, 'X[0] <= 80.5\\ngini = 0.346\\nsamples = 9\\nvalue = [2, 7]'),\n",
       " Text(858.4615384615383, 247.09090909090912, 'X[1] <= 90.0\\ngini = 0.219\\nsamples = 8\\nvalue = [1, 7]'),\n",
       " Text(836.9999999999999, 148.25454545454545, 'X[0] <= 77.5\\ngini = 0.375\\nsamples = 4\\nvalue = [1, 3]'),\n",
       " Text(815.5384615384614, 49.41818181818189, 'gini = 0.0\\nsamples = 3\\nvalue = [0, 3]'),\n",
       " Text(858.4615384615383, 49.41818181818189, 'gini = 0.0\\nsamples = 1\\nvalue = [1, 0]'),\n",
       " Text(879.9230769230769, 148.25454545454545, 'gini = 0.0\\nsamples = 4\\nvalue = [0, 4]'),\n",
       " Text(901.3846153846154, 247.09090909090912, 'gini = 0.0\\nsamples = 1\\nvalue = [1, 0]'),\n",
       " Text(858.4615384615383, 543.6, 'gini = 0.0\\nsamples = 34\\nvalue = [0, 34]'),\n",
       " Text(955.0384615384614, 938.9454545454546, 'X[1] <= 42.5\\ngini = 0.052\\nsamples = 225\\nvalue = [6, 219]'),\n",
       " Text(879.9230769230769, 840.1090909090909, 'X[0] <= 78.0\\ngini = 0.5\\nsamples = 8\\nvalue = [4, 4]'),\n",
       " Text(858.4615384615383, 741.2727272727273, 'gini = 0.0\\nsamples = 3\\nvalue = [3, 0]'),\n",
       " Text(901.3846153846154, 741.2727272727273, 'X[4] <= 0.5\\ngini = 0.32\\nsamples = 5\\nvalue = [1, 4]'),\n",
       " Text(879.9230769230769, 642.4363636363637, 'gini = 0.0\\nsamples = 3\\nvalue = [0, 3]'),\n",
       " Text(922.8461538461538, 642.4363636363637, 'gini = 0.5\\nsamples = 2\\nvalue = [1, 1]'),\n",
       " Text(1030.1538461538462, 840.1090909090909, 'X[5] <= 0.5\\ngini = 0.018\\nsamples = 217\\nvalue = [2, 215]'),\n",
       " Text(987.2307692307692, 741.2727272727273, 'X[0] <= 72.5\\ngini = 0.009\\nsamples = 210\\nvalue = [1, 209]'),\n",
       " Text(965.7692307692307, 642.4363636363637, 'X[8] <= 0.5\\ngini = 0.083\\nsamples = 23\\nvalue = [1, 22]'),\n",
       " Text(944.3076923076923, 543.6, 'gini = 0.0\\nsamples = 1\\nvalue = [1, 0]'),\n",
       " Text(987.2307692307692, 543.6, 'gini = 0.0\\nsamples = 22\\nvalue = [0, 22]'),\n",
       " Text(1008.6923076923076, 642.4363636363637, 'gini = 0.0\\nsamples = 187\\nvalue = [0, 187]'),\n",
       " Text(1073.076923076923, 741.2727272727273, 'X[7] <= 0.5\\ngini = 0.245\\nsamples = 7\\nvalue = [1, 6]'),\n",
       " Text(1051.6153846153845, 642.4363636363637, 'gini = 0.0\\nsamples = 1\\nvalue = [1, 0]'),\n",
       " Text(1094.5384615384614, 642.4363636363637, 'gini = 0.0\\nsamples = 6\\nvalue = [0, 6]')]"
      ]
     },
     "execution_count": 79,
     "metadata": {},
     "output_type": "execute_result"
    },
    {
     "data": {
      "image/png": "[encoded data removed]",
      "text/plain": [
       "<Figure size 1440x1440 with 1 Axes>"
      ]
     },
     "metadata": {
      "needs_background": "light"
     },
     "output_type": "display_data"
    }
   ],
   "source": [
    "clf = tree.DecisionTreeClassifier()\n",
    "clf = clf.fit(xTrain, yTrain)\n",
    "plt.rcParams[\"figure.figsize\"] = (20,20)\n",
    "tree.plot_tree(clf) \n"
   ]
  },
  {
   "cell_type": "code",
   "execution_count": 80,
   "metadata": {},
   "outputs": [
    {
     "name": "stdout",
     "output_type": "stream",
     "text": [
      "Accuracy: 0.9911111111111112\n",
      "Mean Absolute Error: 0.008888888888888889\n",
      "Mean Squared Error: 0.008888888888888889\n"
     ]
    }
   ],
   "source": [
    "yPred = clf.predict(xTest)\n",
    "print(\"Accuracy:\",metrics.accuracy_score(yTest, yPred))\n",
    "print(\"Mean Absolute Error:\", metrics.mean_absolute_error(yTest, yPred))\n",
    "print(\"Mean Squared Error:\", metrics.mean_squared_error(yTest,yPred))"
   ]
  },
  {
   "cell_type": "code",
   "execution_count": 81,
   "metadata": {},
   "outputs": [
    {
     "data": {
      "text/plain": [
       "<matplotlib.axes._subplots.AxesSubplot at 0x122627350>"
      ]
     },
     "execution_count": 81,
     "metadata": {},
     "output_type": "execute_result"
    },
    {
     "data": {
      "image/png": "[encoded data removed]",
      "text/plain": [
       "<Figure size 720x720 with 2 Axes>"
      ]
     },
     "metadata": {
      "needs_background": "light"
     },
     "output_type": "display_data"
    }
   ],
   "source": [
    "plt.rcParams[\"figure.figsize\"] = (10,10)\n",
    "skplt.metrics.plot_confusion_matrix(y_true= yTest, y_pred = yPred)"
   ]
  },
  {
   "cell_type": "markdown",
   "metadata": {},
   "source": [
    "## Multi-Layer Perceptron"
   ]
  },
  {
   "cell_type": "code",
   "execution_count": 82,
   "metadata": {},
   "outputs": [],
   "source": [
    "model = MLPClassifier(solver='sgd',activation='logistic',max_iter=5000000, hidden_layer_sizes=(400))\n",
    "trained_model = model.fit(xTrain,yTrain)\n",
    "model_prediction = trained_model.predict(xTest)"
   ]
  },
  {
   "cell_type": "code",
   "execution_count": 83,
   "metadata": {},
   "outputs": [
    {
     "data": {
      "text/plain": [
       "<matplotlib.axes._subplots.AxesSubplot at 0x1234d9610>"
      ]
     },
     "execution_count": 83,
     "metadata": {},
     "output_type": "execute_result"
    },
    {
     "data": {
      "image/png": "[encoded data removed]",
      "text/plain": [
       "<Figure size 720x720 with 2 Axes>"
      ]
     },
     "metadata": {
      "needs_background": "light"
     },
     "output_type": "display_data"
    }
   ],
   "source": [
    "skplt.metrics.plot_confusion_matrix(y_true = yTest, y_pred = model_prediction)"
   ]
  },
  {
   "cell_type": "code",
   "execution_count": 84,
   "metadata": {},
   "outputs": [
    {
     "data": {
      "text/plain": [
       "0.9355555555555556"
      ]
     },
     "execution_count": 84,
     "metadata": {},
     "output_type": "execute_result"
    }
   ],
   "source": [
    "metrics.accuracy_score(yTest,model_prediction)"
   ]
  },
  {
   "cell_type": "markdown",
   "metadata": {},
   "source": [
    "# 4. Reinspection of data"
   ]
  },
  {
   "cell_type": "markdown",
   "metadata": {},
   "source": [
    "### 4.1 Heatmap of our variables"
   ]
  },
  {
   "cell_type": "code",
   "execution_count": 85,
   "metadata": {},
   "outputs": [
    {
     "data": {
      "text/plain": [
       "<matplotlib.axes._subplots.AxesSubplot at 0x122a697d0>"
      ]
     },
     "execution_count": 85,
     "metadata": {},
     "output_type": "execute_result"
    },
    {
     "data": {
      "image/png": "[encoded data removed]",
      "text/plain": [
       "<Figure size 720x720 with 2 Axes>"
      ]
     },
     "metadata": {
      "needs_background": "light"
     },
     "output_type": "display_data"
    }
   ],
   "source": [
    "sb.heatmap(data_copy.corr(),annot=True)"
   ]
  },
  {
   "cell_type": "markdown",
   "metadata": {},
   "source": [
    "The heatmap above suggests that compared to 'label_bool', the Indication values and History have little to no coorelation."
   ]
  },
  {
   "cell_type": "code",
   "execution_count": 86,
   "metadata": {},
   "outputs": [
    {
     "data": {
      "text/html": [
       "<div>\n",
       "<style scoped>\n",
       "    .dataframe tbody tr th:only-of-type {\n",
       "        vertical-align: middle;\n",
       "    }\n",
       "\n",
       "    .dataframe tbody tr th {\n",
       "        vertical-align: top;\n",
       "    }\n",
       "\n",
       "    .dataframe thead th {\n",
       "        text-align: right;\n",
       "    }\n",
       "</style>\n",
       "<table border=\"1\" class=\"dataframe\">\n",
       "  <thead>\n",
       "    <tr style=\"text-align: right;\">\n",
       "      <th></th>\n",
       "      <th>IPSI</th>\n",
       "      <th>Contra</th>\n",
       "      <th>Diabetes_bool</th>\n",
       "      <th>IHD_bool</th>\n",
       "      <th>Hypertension_bool</th>\n",
       "      <th>Arrhythmia_bool</th>\n",
       "      <th>label_bool</th>\n",
       "    </tr>\n",
       "  </thead>\n",
       "  <tbody>\n",
       "    <tr>\n",
       "      <th>0</th>\n",
       "      <td>78.0</td>\n",
       "      <td>20</td>\n",
       "      <td>False</td>\n",
       "      <td>False</td>\n",
       "      <td>True</td>\n",
       "      <td>False</td>\n",
       "      <td>0</td>\n",
       "    </tr>\n",
       "    <tr>\n",
       "      <th>1</th>\n",
       "      <td>70.0</td>\n",
       "      <td>60</td>\n",
       "      <td>False</td>\n",
       "      <td>False</td>\n",
       "      <td>False</td>\n",
       "      <td>False</td>\n",
       "      <td>0</td>\n",
       "    </tr>\n",
       "    <tr>\n",
       "      <th>2</th>\n",
       "      <td>95.0</td>\n",
       "      <td>40</td>\n",
       "      <td>False</td>\n",
       "      <td>True</td>\n",
       "      <td>True</td>\n",
       "      <td>False</td>\n",
       "      <td>1</td>\n",
       "    </tr>\n",
       "    <tr>\n",
       "      <th>3</th>\n",
       "      <td>90.0</td>\n",
       "      <td>85</td>\n",
       "      <td>False</td>\n",
       "      <td>False</td>\n",
       "      <td>True</td>\n",
       "      <td>False</td>\n",
       "      <td>1</td>\n",
       "    </tr>\n",
       "    <tr>\n",
       "      <th>4</th>\n",
       "      <td>70.0</td>\n",
       "      <td>20</td>\n",
       "      <td>False</td>\n",
       "      <td>False</td>\n",
       "      <td>False</td>\n",
       "      <td>False</td>\n",
       "      <td>0</td>\n",
       "    </tr>\n",
       "  </tbody>\n",
       "</table>\n",
       "</div>"
      ],
      "text/plain": [
       "   IPSI Contra  Diabetes_bool  IHD_bool  Hypertension_bool  Arrhythmia_bool  \\\n",
       "0  78.0    20           False     False               True            False   \n",
       "1  70.0    60           False     False              False            False   \n",
       "2  95.0     40          False      True               True            False   \n",
       "3  90.0     85          False     False               True            False   \n",
       "4  70.0    20           False     False              False            False   \n",
       "\n",
       "   label_bool  \n",
       "0           0  \n",
       "1           0  \n",
       "2           1  \n",
       "3           1  \n",
       "4           0  "
      ]
     },
     "execution_count": 86,
     "metadata": {},
     "output_type": "execute_result"
    }
   ],
   "source": [
    "data_copy=data_copy.drop(columns=['History_bool','Indication_A-F','Indication_ASX','Indication_CVA','Indication_TIA'])\n",
    "data_copy.head()"
   ]
  },
  {
   "cell_type": "markdown",
   "metadata": {},
   "source": []
  },
  {
   "cell_type": "code",
   "execution_count": null,
   "metadata": {},
   "outputs": [],
   "source": []
  }
 ],
 "metadata": {
  "kernelspec": {
   "display_name": "Python 3",
   "language": "python",
   "name": "python3"
  },
  "language_info": {
   "codemirror_mode": {
    "name": "ipython",
    "version": 3
   },
   "file_extension": ".py",
   "mimetype": "text/x-python",
   "name": "python",
   "nbconvert_exporter": "python",
   "pygments_lexer": "ipython3",
   "version": "3.7.5"
  }
 },
 "nbformat": 4,
 "nbformat_minor": 2
}
